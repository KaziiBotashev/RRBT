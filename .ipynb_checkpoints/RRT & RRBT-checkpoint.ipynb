{
 "cells": [
  {
   "cell_type": "code",
   "execution_count": 7,
   "id": "possible-structure",
   "metadata": {},
   "outputs": [
    {
     "ename": "ImportError",
     "evalue": "cannot import name 'utils' from 'data' (unknown location)",
     "output_type": "error",
     "traceback": [
      "\u001b[0;31m---------------------------------------------------------------------------\u001b[0m",
      "\u001b[0;31mImportError\u001b[0m                               Traceback (most recent call last)",
      "\u001b[0;32m<ipython-input-7-5f3ec281b341>\u001b[0m in \u001b[0;36m<module>\u001b[0;34m\u001b[0m\n\u001b[1;32m      8\u001b[0m \u001b[0;32mimport\u001b[0m \u001b[0mnetworkx\u001b[0m \u001b[0;32mas\u001b[0m \u001b[0mnx\u001b[0m\u001b[0;34m\u001b[0m\u001b[0;34m\u001b[0m\u001b[0m\n\u001b[1;32m      9\u001b[0m \u001b[0;34m\u001b[0m\u001b[0m\n\u001b[0;32m---> 10\u001b[0;31m \u001b[0;32mfrom\u001b[0m \u001b[0mdata\u001b[0m \u001b[0;32mimport\u001b[0m \u001b[0mutils\u001b[0m\u001b[0;34m\u001b[0m\u001b[0;34m\u001b[0m\u001b[0m\n\u001b[0m",
      "\u001b[0;31mImportError\u001b[0m: cannot import name 'utils' from 'data' (unknown location)"
     ]
    }
   ],
   "source": [
    "from PIL import Image\n",
    "import numpy as np\n",
    "import matplotlib.pyplot as plt\n",
    "from scipy.ndimage.interpolation import rotate\n",
    "import pickle\n",
    "\n",
    "from collections import defaultdict\n",
    "import networkx as nx\n",
    "\n",
    "from data import utils"
   ]
  },
  {
   "cell_type": "code",
   "execution_count": 13,
   "id": "realistic-inquiry",
   "metadata": {},
   "outputs": [],
   "source": [
    "with open('data.pickle', 'rb') as f:\n",
    "    data_new = pickle.load(f)\n",
    "    \n",
    "env = data_new['env']\n",
    "obj = data_new['obj']"
   ]
  },
  {
   "cell_type": "code",
   "execution_count": 16,
   "id": "electoral-bride",
   "metadata": {},
   "outputs": [
    {
     "name": "stdout",
     "output_type": "stream",
     "text": [
      "(array([0, 1, 3, 7], dtype=int32), array([53088, 13986,  2928,  8886]))\n"
     ]
    },
    {
     "data": {
      "image/png": "[encoded data removed]",
      "text/plain": [
       "<Figure size 432x288 with 1 Axes>"
      ]
     },
     "metadata": {
      "needs_background": "light"
     },
     "output_type": "display_data"
    }
   ],
   "source": [
    "plt.imshow(env)\n",
    "print(np.unique(env, return_counts=True))"
   ]
  },
  {
   "cell_type": "code",
   "execution_count": 15,
   "id": "directed-residence",
   "metadata": {},
   "outputs": [
    {
     "data": {
      "text/plain": [
       "<matplotlib.image.AxesImage at 0x7f9bf2804b20>"
      ]
     },
     "execution_count": 15,
     "metadata": {},
     "output_type": "execute_result"
    },
    {
     "data": {
      "image/png": "[encoded data removed]",
      "text/plain": [
       "<Figure size 432x288 with 1 Axes>"
      ]
     },
     "metadata": {
      "needs_background": "light"
     },
     "output_type": "display_data"
    }
   ],
   "source": [
    "plt.imshow(obj)"
   ]
  },
  {
   "cell_type": "markdown",
   "id": "pleasant-ottawa",
   "metadata": {},
   "source": [
    "# GRAPH RRT "
   ]
  },
  {
   "cell_type": "code",
   "execution_count": 18,
   "id": "static-startup",
   "metadata": {},
   "outputs": [],
   "source": [
    "def distance_angle_all(point1, point2):\n",
    "    return np.linalg.norm(point1[:, :2] - point2[:2], axis=1)[:, None] \\\n",
    "                + 20 * angle_difference(point1[:, -1], finish_point[-1])[:, None]\n",
    "\n",
    "class GraphRRT:\n",
    "    \n",
    "    def __init__(self, start, end, step=75, weight=20):\n",
    "        self.start = start\n",
    "        self.end = end\n",
    "        self.step = step\n",
    "        self.weight = weight\n",
    "        \n",
    "        self.G = nx.DiGraph()\n",
    "        self.G.add_node(0, val = tuple(self.start))\n",
    "    \n",
    "    def num_of_vertices(self):\n",
    "        return len(self.G.nodes)\n",
    "    \n",
    "    def distance_angle(self, point1, point2, theta1, theta2):\n",
    "        return np.linalg.norm(point1 - point2) + self.weight * angle_difference(theta1, theta2)\n",
    "\n",
    "    def random_init(self):\n",
    "        \n",
    "        key = np.random.choice(range(2), p=[0.1, 0.9])\n",
    "        if key:\n",
    "            xnew = int(np.random.uniform(0, 346))\n",
    "            ynew = int(np.random.uniform(0, 228))\n",
    "            angle = 0\n",
    "        \n",
    "        else:\n",
    "            xnew, ynew, angle = self.end\n",
    "            \n",
    "        return xnew, ynew, angle\n",
    "    \n",
    "    def find_nearest(self, random_point):\n",
    "        min_distance = 1e15\n",
    "        min_index = None\n",
    "        \n",
    "        for index, vert in enumerate(self.G.nodes):\n",
    "            vert = np.array(self.G.nodes[vert]['val'])\n",
    "            distance = self.distance_angle(random_point[:2], vert[:2], \n",
    "                                    random_point[-1], vert[-1])\n",
    "            if distance <= min_distance:\n",
    "                min_distance = distance\n",
    "                min_index = index\n",
    "        \n",
    "        return min_index\n",
    "    \n",
    "    def steer(self, random_point, min_index):\n",
    "        \n",
    "        excess_vector_coords = random_point[:2] - np.array(self.G.nodes[min_index]['val'])[:2]\n",
    "        normalize = excess_vector_coords / np.linalg.norm(excess_vector_coords)\n",
    "        \n",
    "        node_coords = np.array(self.G.nodes[min_index]['val'])[:2]\n",
    "        delta_coords = node_coords  + normalize * self.step\n",
    "        delta_vector_coords = delta_coords - node_coords\n",
    "          \n",
    "        angle = np.array(self.G.nodes[min_index]['val'])[-1]\n",
    "        new_angle = angle + angle_difference(random_point[-1], angle * np.linalg.norm(delta_vector_coords) / \\\n",
    "                                            np.linalg.norm(excess_vector_coords))\n",
    "    \n",
    "        vertex = np.hstack((delta_coords, new_angle))  \n",
    "        return vertex, new_angle\n",
    "        \n",
    "    def rtt(self, n_iter=5):\n",
    "        \n",
    "        for i in range(n_iter):\n",
    "            \n",
    "            if not i % 200:\n",
    "                print('Iteration:', i)\n",
    "\n",
    "            random_point = self.random_init()\n",
    "            \n",
    "            # Find index of the closest node\n",
    "            min_index = self.find_nearest(random_point)\n",
    "            \n",
    "            # Steer new coords\n",
    "            vertex, new_angle = self.steer(random_point, min_index)   \n",
    "            \n",
    "            if check_collision_obj_image(\n",
    "                env, \n",
    "                rotate_image(obj, new_angle), \n",
    "                np.array(self.G.nodes[min_index]['val'])[:2].astype(int),\n",
    "                vertex[:2].astype(int),\n",
    "                12\n",
    "            ):\n",
    "                continue\n",
    "                \n",
    "            new_vertex_index = self.num_of_vertices()\n",
    "            self.G.add_node(new_vertex_index, val=tuple(vertex))\n",
    "            self.G.add_edge(min_index, new_vertex_index)\n",
    "            \n",
    "    def sure_path_exists(self):\n",
    "        vertices = [self.G.nodes[i]['val'] for i in range(len(self.G.nodes))]\n",
    "        indices = distance_angle_all(np.array(vertices), self.end).flatten().argsort()\n",
    "        for index in indices:\n",
    "            if not check_collision_obj_image(\n",
    "                env, \n",
    "                rotate_image(obj, vertices[index][-1]),\n",
    "                np.array(vertices[index])[:2].astype(int),\n",
    "                self.end[:2].astype(int),\n",
    "                12\n",
    "            ):\n",
    "                return index\n",
    "            \n",
    "    def create_plan(self):\n",
    "        point = self.sure_path_exists()\n",
    "        plan = []\n",
    "        \n",
    "        if point is None:\n",
    "            raise ValueError('Apparently, it is necessary to increase number of iterations.')\n",
    "\n",
    "        while True:\n",
    "            current_node = self.G.nodes[point]['val']\n",
    "            plan.append(current_node)\n",
    "            try:\n",
    "                point = list(self.G.predecessors(point))[0]\n",
    "\n",
    "            except IndexError:\n",
    "                break\n",
    "                \n",
    "        return plan[::-1]"
   ]
  },
  {
   "cell_type": "code",
   "execution_count": 19,
   "id": "unauthorized-commodity",
   "metadata": {},
   "outputs": [
    {
     "name": "stdout",
     "output_type": "stream",
     "text": [
      "Iteration: 0\n",
      "Iteration: 200\n",
      "Iteration: 400\n",
      "Iteration: 600\n",
      "Iteration: 800\n",
      "Iteration: 1000\n",
      "Iteration: 1200\n",
      "Iteration: 1400\n",
      "Iteration: 1600\n",
      "Iteration: 1800\n",
      "Iteration: 2000\n",
      "Iteration: 2200\n",
      "Iteration: 2400\n",
      "Iteration: 2600\n",
      "Iteration: 2800\n"
     ]
    }
   ],
   "source": [
    "initial_point = np.array([200, 20, 0])\n",
    "finish_point = np.array([50, 163, 0])\n",
    "weight = 20 # Не нужна, ибо угол всегда 0 (оставил на всякий случай)\n",
    "step = 5\n",
    "g = GraphRRT(initial_point, finish_point, weight=weight, step=step)\n",
    "\n",
    "g.rtt(3000)\n",
    "\n",
    "plan = g.create_plan()\n",
    "# plotting_results(env, obj, plan, weight=weight, step=step)"
   ]
  },
  {
   "cell_type": "markdown",
   "id": "limiting-parts",
   "metadata": {},
   "source": [
    "# ЧТОБЫ КАРТИНКУ ПОСТРОИТЬ"
   ]
  },
  {
   "cell_type": "code",
   "execution_count": 23,
   "id": "adapted-yellow",
   "metadata": {},
   "outputs": [
    {
     "data": {
      "image/png": "[encoded data removed]",
      "text/plain": [
       "<Figure size 864x576 with 1 Axes>"
      ]
     },
     "metadata": {
      "needs_background": "light"
     },
     "output_type": "display_data"
    }
   ],
   "source": [
    "from typing import Union\n",
    "\n",
    "def calc_radius(n: int, d: int, coef: Union[int, float]) -> float:\n",
    "    \"\"\"\n",
    "    @n - number of state vertices\n",
    "    @d - state dimension\n",
    "    @coef - size of circles\n",
    "    \"\"\"\n",
    "    return (np.log(n) / n) ** (1 / d) * coef\n",
    "\n",
    "def near(V, v_new, d=3):\n",
    "    \"\"\"\n",
    "    @V - set of vertices\n",
    "    @v_new - \n",
    "    \n",
    "    \"\"\"\n",
    "    n = len(V)\n",
    "    \n",
    "    near_set = []\n",
    "    \n",
    "    radius = calc_radius(n, d)\n",
    "    for vertex in V:\n",
    "        distance = np.linalg.norm(vertex - v_new)\n",
    "        print('Distance', distance)\n",
    "        print('Radius', radius)\n",
    "        if distance <= radius:\n",
    "            near_set.append(vertex)\n",
    "            \n",
    "    return near_set\n",
    "\n",
    "plt.figure(figsize=(12, 8))\n",
    "\n",
    "xaxis = [x[1] for x in plan]\n",
    "yaxis = [x[0] for x in plan]\n",
    "\n",
    "verbose_step = 10\n",
    "radius = calc_radius(2, 3, 40)\n",
    "\n",
    "for i in range(len(plan)):\n",
    "    if not i % verbose_step - 1:\n",
    "        circle = plt.Circle((xaxis[i], yaxis[i]), radius, color='magenta', fill=False, linewidth=3)\n",
    "        plt.gca().add_patch(circle)\n",
    "\n",
    "plt.plot(xaxis, yaxis, color='white', linewidth=3)\n",
    "plt.imshow(env)\n",
    "\n",
    "plt.axis('off')\n",
    "\n",
    "plt.show()\n",
    "\n",
    "# plt.savefig('rrt.png', bbox_inches='tight', pad_inches=0)"
   ]
  },
  {
   "cell_type": "markdown",
   "id": "sought-grammar",
   "metadata": {},
   "source": [
    "# GRAPH RRBT"
   ]
  },
  {
   "cell_type": "code",
   "execution_count": 24,
   "id": "warming-musical",
   "metadata": {},
   "outputs": [],
   "source": [
    "def distance_angle_all(point1, point2):\n",
    "    return np.linalg.norm(point1[:, :2] - point2[:2], axis=1)[:, None] \\\n",
    "                + 20 * angle_difference(point1[:, -1], finish_point[-1])[:, None]\n",
    "\n",
    "class GraphRRTBNX:\n",
    "    \n",
    "    def __init__(self, start, end, step=75, weight=20):\n",
    "        self.start = start\n",
    "        self.end = end\n",
    "        self.step = step\n",
    "        self.weight = weight\n",
    "        \n",
    "        self.G = nx.DiGraph()\n",
    "        self.G.add_node(0, val = tuple(self.start))\n",
    "    \n",
    "    def num_of_vertices(self):\n",
    "        return len(self.G.nodes)\n",
    "    \n",
    "    def distance_angle(self, point1, point2, theta1, theta2):\n",
    "        return np.linalg.norm(point1 - point2) + self.weight * angle_difference(theta1, theta2)\n",
    "\n",
    "    def random_init(self):\n",
    "        \n",
    "        key = np.random.choice(range(2), p=[0.1, 0.9])\n",
    "        if key:\n",
    "            xnew = int(np.random.uniform(0, 346))\n",
    "            ynew = int(np.random.uniform(0, 228))\n",
    "            angle = 0\n",
    "        \n",
    "        else:\n",
    "            xnew, ynew, angle = self.end\n",
    "            \n",
    "        return xnew, ynew, angle\n",
    "    \n",
    "    def find_nearest(self, random_point):\n",
    "        min_distance = 1e15\n",
    "        min_index = None\n",
    "        \n",
    "        for index, vert in enumerate(self.G.nodes):\n",
    "            vert = np.array(self.G.nodes[vert]['val'])\n",
    "            distance = self.distance_angle(random_point[:2], vert[:2], \n",
    "                                    random_point[-1], vert[-1])\n",
    "            if distance <= min_distance:\n",
    "                min_distance = distance\n",
    "                min_index = index\n",
    "        \n",
    "        return min_index\n",
    "    \n",
    "    @staticmethod\n",
    "    def calc_radius(n: int, d: int = 3) -> float:\n",
    "        \"\"\"\n",
    "        @n - number of state vertices\n",
    "        @d - state dimension\n",
    "        \"\"\"\n",
    "        return (np.log(n) / n) ** (1 / d) * 10\n",
    "    \n",
    "    def near(self, v_new, d = 3):\n",
    "        \"\"\"\n",
    "        @V - set of vertices\n",
    "        @v_new - new point\n",
    "\n",
    "        \"\"\"\n",
    "        n = len(self.G.nodes)\n",
    "\n",
    "        near_set = []\n",
    "\n",
    "        radius = self.calc_radius(n, d)\n",
    "        for vertex in self.G.nodes:\n",
    "            vertex_coords = np.array(self.G.nodes[vertex]['val'])[:2]\n",
    "            distance = np.linalg.norm(vertex_coords - v_new[:2])\n",
    "            if distance <= radius:\n",
    "                near_set.append(vertex)\n",
    "\n",
    "        return near_set\n",
    "    \n",
    "    def find_predecessors(self, node_index):\n",
    "        return list(self.G.predecessors(node_index))\n",
    "    \n",
    "    def steer(self, random_point, min_index):\n",
    "        \n",
    "        excess_vector_coords = random_point[:2] - np.array(self.G.nodes[min_index]['val'])[:2]\n",
    "        normalize = excess_vector_coords / np.linalg.norm(excess_vector_coords)\n",
    "        \n",
    "        node_coords = np.array(self.G.nodes[min_index]['val'])[:2]\n",
    "        delta_coords = node_coords + normalize * self.step\n",
    "        delta_vector_coords = delta_coords - node_coords\n",
    "          \n",
    "        angle = np.array(self.G.nodes[min_index]['val'])[-1]\n",
    "        new_angle = angle + angle_difference(random_point[-1], angle * np.linalg.norm(delta_vector_coords) / \\\n",
    "                                            np.linalg.norm(excess_vector_coords))\n",
    "    \n",
    "        vertex = np.hstack((delta_coords, new_angle))  \n",
    "        return vertex, new_angle\n",
    "        \n",
    "    def rttb(self, n_iter=5):\n",
    "        \n",
    "        for i in range(n_iter):\n",
    "            \n",
    "            if not i % 200:\n",
    "                print('Iteration:', i)\n",
    "\n",
    "            random_point = self.random_init()\n",
    "            \n",
    "            # Find index of the closest node\n",
    "            min_index = self.find_nearest(random_point)\n",
    "            \n",
    "            # Steer new coords\n",
    "            vertex, new_angle = self.steer(random_point, min_index)   \n",
    "            \n",
    "            if check_collision_obj_image(\n",
    "                env, \n",
    "                rotate_image(obj, new_angle), \n",
    "                np.array(self.G.nodes[min_index]['val'])[:2].astype(int),\n",
    "                vertex[:2].astype(int),\n",
    "                12\n",
    "            ):\n",
    "                continue\n",
    "                \n",
    "            new_vertex_index = self.num_of_vertices()\n",
    "            self.G.add_node(new_vertex_index, val=tuple(vertex))\n",
    "            self.G.add_edge(min_index, new_vertex_index)\n",
    "            \n",
    "            near_vertices_indices = self.near(vertex)\n",
    "            for index in near_vertices_indices:\n",
    "                if index != new_vertex_index:\n",
    "                    self.G.add_edge(index, new_vertex_index)\n",
    "            \n",
    "    def sure_path_exists(self):\n",
    "        vertices = [self.G.nodes[i]['val'] for i in range(len(self.G.nodes))]\n",
    "        indices = distance_angle_all(np.array(vertices), self.end).flatten().argsort()\n",
    "        for index in indices:\n",
    "            if not check_collision_obj_image(\n",
    "                env, \n",
    "                rotate_image(obj, vertices[index][-1]),\n",
    "                np.array(vertices[index])[:2].astype(int),\n",
    "                self.end[:2].astype(int),\n",
    "                12\n",
    "            ):\n",
    "                return index\n",
    "            \n",
    "    def create_plan(self):\n",
    "        point = self.sure_path_exists()\n",
    "        plan = []\n",
    "        \n",
    "        if point is None:\n",
    "            raise ValueError('Apparently, it is necessary to increase number of iterations.')\n",
    "\n",
    "        while True:\n",
    "            current_node = self.G.nodes[point]['val']\n",
    "            plan.append(current_node)\n",
    "            try:\n",
    "                point = list(self.G.predecessors(point))[0]\n",
    "\n",
    "            except IndexError:\n",
    "                break\n",
    "                \n",
    "        return plan[::-1]"
   ]
  },
  {
   "cell_type": "code",
   "execution_count": 25,
   "id": "neutral-kentucky",
   "metadata": {},
   "outputs": [
    {
     "name": "stdout",
     "output_type": "stream",
     "text": [
      "Iteration: 0\n"
     ]
    }
   ],
   "source": [
    "# env, obj, start, stop = load_data('PS2_data.npz')\n",
    "\n",
    "initial_point = np.array([200, 20, 0])\n",
    "finish_point = np.array([50, 163, 0])\n",
    "weight = 20\n",
    "step = 5\n",
    "g = GraphRRTBNX(initial_point, finish_point, weight=weight, step=step)\n",
    "\n",
    "g.rttb(50)"
   ]
  },
  {
   "cell_type": "code",
   "execution_count": 26,
   "id": "amateur-irrigation",
   "metadata": {},
   "outputs": [
    {
     "data": {
      "image/png": "[encoded data removed]",
      "text/plain": [
       "<Figure size 864x576 with 1 Axes>"
      ]
     },
     "metadata": {},
     "output_type": "display_data"
    }
   ],
   "source": [
    "plt.figure(figsize=(12, 8))\n",
    "nx.draw_networkx(g.G)"
   ]
  },
  {
   "cell_type": "markdown",
   "id": "polished-translation",
   "metadata": {},
   "source": [
    "# NEAR"
   ]
  },
  {
   "cell_type": "code",
   "execution_count": 29,
   "id": "urban-courage",
   "metadata": {},
   "outputs": [
    {
     "data": {
      "text/plain": [
       "[26, 28]"
      ]
     },
     "execution_count": 29,
     "metadata": {},
     "output_type": "execute_result"
    }
   ],
   "source": [
    "point = np.array([230, 50])\n",
    "\n",
    "# Near vertices indices\n",
    "g.near(point)"
   ]
  },
  {
   "cell_type": "markdown",
   "id": "growing-jenny",
   "metadata": {},
   "source": [
    "# WHO OWNS"
   ]
  },
  {
   "cell_type": "code",
   "execution_count": 31,
   "id": "single-harris",
   "metadata": {},
   "outputs": [
    {
     "data": {
      "text/plain": [
       "([25], [26])"
      ]
     },
     "execution_count": 31,
     "metadata": {},
     "output_type": "execute_result"
    }
   ],
   "source": [
    "g.find_predecessors(26), g.find_predecessors(28)"
   ]
  }
 ],
 "metadata": {
  "kernelspec": {
   "display_name": "Python 3",
   "language": "python",
   "name": "python3"
  },
  "language_info": {
   "codemirror_mode": {
    "name": "ipython",
    "version": 3
   },
   "file_extension": ".py",
   "mimetype": "text/x-python",
   "name": "python",
   "nbconvert_exporter": "python",
   "pygments_lexer": "ipython3",
   "version": "3.8.5"
  }
 },
 "nbformat": 4,
 "nbformat_minor": 5
}
