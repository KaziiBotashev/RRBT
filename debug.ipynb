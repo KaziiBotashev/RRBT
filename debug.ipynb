{
 "cells": [
  {
   "cell_type": "code",
   "execution_count": null,
   "metadata": {},
   "outputs": [],
   "source": [
    "from dubins import connect\n",
    "from propagate import *\n",
    "\n",
    "\n",
    "import numpy as np\n",
    "import matplotlib.pyplot as plt\n",
    "from plot import plot2dcov\n",
    "from nodes_edges import Edge, BeliefNode\n",
    "%matplotlib notebook\n",
    "\n",
    "def propagate(edge, start_belief, dt):\n",
    "    Sigma = start_belief.Sigma\n",
    "    states = edge.states\n",
    "    actions = edge.actions\n",
    "    state = states[0]\n",
    "    Lambda = start_belief.Lambda\n",
    "    xy_error = 1e-6\n",
    "    theta_error = 1e-6\n",
    "    measurement_error = 1e-6\n",
    "    k = 1e-9\n",
    "    observable_check_const = 1\n",
    "\n",
    "    kalman = DynamicModel(xy_error, theta_error,measurement_error, dt,k)\n",
    "#     print(states)\n",
    "    for action in actions:\n",
    "        print(state,action)\n",
    "        kalman.predict(state, action, Sigma)\n",
    "        kalman.update(Lambda)\n",
    "        state = kalman.x_updated\n",
    "        Sigma = kalman.Sigma_updated\n",
    "        Lambda = kalman.Lambda\n",
    "    \n",
    "    print(len(actions))\n",
    "#     print(states[0])\n",
    "#     print(state,states[-1])\n",
    "\n",
    "    return BeliefNode(Sigma, Lambda, len(actions))    "
   ]
  },
  {
   "cell_type": "code",
   "execution_count": null,
   "metadata": {},
   "outputs": [],
   "source": [
    "start = np.array([250.0, 50.0, 0.0])\n",
    "end = np.array([280.0, 50.0, 0.0])\n",
    "# dt = 1e-3\n",
    "\n",
    "dt = 1e-3\n",
    "r = 1.5\n",
    "edge = connect(start, end,r, dt, plot = True)\n",
    "edge_test = Edge(edge[0], edge[1])\n",
    "belief_test = BeliefNode(np.eye(3)*0.001,np.zeros((3,3)), 0)\n",
    "belief_output = propagate(edge_test, belief_test, dt)\n",
    "# print(belief_output.Lambda )\n",
    "# plot2dcov(end[:2], (belief_output.Lambda)[:2,:2])"
   ]
  },
  {
   "cell_type": "code",
   "execution_count": null,
   "metadata": {},
   "outputs": [],
   "source": []
  },
  {
   "cell_type": "code",
   "execution_count": null,
   "metadata": {},
   "outputs": [],
   "source": []
  },
  {
   "cell_type": "code",
   "execution_count": null,
   "metadata": {},
   "outputs": [],
   "source": []
  },
  {
   "cell_type": "code",
   "execution_count": null,
   "metadata": {},
   "outputs": [],
   "source": [
    "import numpy as np\n",
    "\n",
    "def AppendBelief(v, new_belief, eps):\n",
    "    dominated = True\n",
    "    for node in v.nodes:\n",
    "        if np.linalg.norm(new_belief.Sigma) < np.linalg.norm(node.Sigma+np.eye(3)*eps) and\n",
    "        np.linalg.norm(new_belief.Lambda) < np.linalg.norm(node.Lambda+np.eye(3)*eps) and\n",
    "        new_belief.cost < node.cost:\n",
    "            dominated = False\n",
    "    if dominated:\n",
    "        return False\n",
    "    else:\n",
    "        to_delete = []\n",
    "        for node in v.nodes.copy():\n",
    "            if (np.linalg.norm(new_belief.Sigma) < np.linalg.norm(node.Sigma) and\n",
    "            np.linalg.norm(new_belief.Lambda) < np.linalg.norm(node.Lambda) and\n",
    "            new_belief.cost < node.cost_:\n",
    "                v.nodes.remove(node)\n",
    "    v.nodes.append(new_belief)"
   ]
  },
  {
   "cell_type": "code",
   "execution_count": null,
   "metadata": {},
   "outputs": [],
   "source": []
  }
 ],
 "metadata": {
  "kernelspec": {
   "display_name": "Python 3",
   "language": "python",
   "name": "python3"
  },
  "language_info": {
   "codemirror_mode": {
    "name": "ipython",
    "version": 3
   },
   "file_extension": ".py",
   "mimetype": "text/x-python",
   "name": "python",
   "nbconvert_exporter": "python",
   "pygments_lexer": "ipython3",
   "version": "3.8.3"
  }
 },
 "nbformat": 4,
 "nbformat_minor": 4
}
