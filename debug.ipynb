{
 "cells": [
  {
   "cell_type": "code",
   "execution_count": 9,
   "metadata": {},
   "outputs": [],
   "source": [
    "from dubins import connect\n",
    "import numpy as np\n",
    "import matplotlib.pyplot as plt\n",
    "from propagate import propagate\n",
    "from plot import plot2dcov\n",
    "from nodes_edges import Edge, BeliefNode\n",
    "%matplotlib qt"
   ]
  },
  {
   "cell_type": "code",
   "execution_count": 10,
   "metadata": {},
   "outputs": [],
   "source": [
    "start = [0,1, np.pi]\n",
    "end = [6,5, np.pi/2]\n",
    "radius = 1.5\n",
    "dt = 0.1\n",
    "edge =connect(start, end, radius = radius, dt = dt, plot = True)"
   ]
  },
  {
   "cell_type": "code",
   "execution_count": 11,
   "metadata": {},
   "outputs": [],
   "source": [
    "edge_test = Edge(edge[0], edge[1])\n",
    "belief_test = BeliefNode(np.eye(3)*0.0001,np.zeros((3,3)), 0)"
   ]
  },
  {
   "cell_type": "code",
   "execution_count": 12,
   "metadata": {},
   "outputs": [],
   "source": [
    "belief_output = propagate(edge_test, belief_test, dt)"
   ]
  },
  {
   "cell_type": "code",
   "execution_count": 15,
   "metadata": {},
   "outputs": [],
   "source": [
    "plot2dcov([0,0], (belief_output.Sigma + belief_output.Lambda)[:2,:2])"
   ]
  },
  {
   "cell_type": "code",
   "execution_count": 18,
   "metadata": {},
   "outputs": [],
   "source": []
  },
  {
   "cell_type": "code",
   "execution_count": null,
   "metadata": {},
   "outputs": [],
   "source": []
  }
 ],
 "metadata": {
  "kernelspec": {
   "display_name": "Python 3",
   "language": "python",
   "name": "python3"
  },
  "language_info": {
   "codemirror_mode": {
    "name": "ipython",
    "version": 3
   },
   "file_extension": ".py",
   "mimetype": "text/x-python",
   "name": "python",
   "nbconvert_exporter": "python",
   "pygments_lexer": "ipython3",
   "version": "3.8.5"
  }
 },
 "nbformat": 4,
 "nbformat_minor": 4
}
