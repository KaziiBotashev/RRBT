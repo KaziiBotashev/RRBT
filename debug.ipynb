{
 "cells": [
  {
   "cell_type": "code",
   "execution_count": 1,
   "metadata": {},
   "outputs": [],
   "source": [
    "from dubins import connect\n",
    "import numpy as np\n",
    "import matplotlib.pyplot as plt\n",
    "from propagate import propagate\n",
    "from plot import plot2dcov\n",
    "from nodes_edges import Edge, BeliefNode\n",
    "%matplotlib qt"
   ]
  },
  {
   "cell_type": "code",
   "execution_count": 17,
   "metadata": {},
   "outputs": [],
   "source": [
    "start = [0,1, np.pi]\n",
    "end = [100,100, np.pi/2]\n",
    "dt = 0.01\n",
    "edge =connect(start, end, dt = 0.01, plot = True)"
   ]
  },
  {
   "cell_type": "code",
   "execution_count": 18,
   "metadata": {},
   "outputs": [],
   "source": [
    "edge_test = Edge(edge[0], edge[1])\n",
    "belief_test = BeliefNode(np.eye(3)*0.01,np.zeros((3,3)), 0)"
   ]
  },
  {
   "cell_type": "code",
   "execution_count": 19,
   "metadata": {},
   "outputs": [],
   "source": [
    "belief_output = propagate(edge_test, belief_test, dt)"
   ]
  },
  {
   "cell_type": "code",
   "execution_count": 20,
   "metadata": {},
   "outputs": [],
   "source": [
    "plot2dcov([0,0], (belief_output.Sigma + belief_output.Lambda)[:2,:2])"
   ]
  },
  {
   "cell_type": "code",
   "execution_count": 18,
   "metadata": {},
   "outputs": [],
   "source": []
  },
  {
   "cell_type": "code",
   "execution_count": null,
   "metadata": {},
   "outputs": [],
   "source": []
  },
  {
   "cell_type": "code",
   "execution_count": null,
   "metadata": {},
   "outputs": [],
   "source": [
    "import numpy as np\n",
    "\n",
    "def AppendBelief(v, new_belief, eps):\n",
    "    dominated = True\n",
    "    for node in v.nodes:\n",
    "        if np.linalg.norm(new_belief.Sigma) < np.linalg.norm(node.Sigma+np.eye(3)*eps) and\n",
    "        np.linalg.norm(new_belief.Lambda) < np.linalg.norm(node.Lambda+np.eye(3)*eps) and\n",
    "        new_belief.cost < node.cost:\n",
    "            dominated = False\n",
    "    if dominated:\n",
    "        return False\n",
    "    else:\n",
    "        to_delete = []\n",
    "        for node in v.nodes.copy():\n",
    "            if np.linalg.norm(new_belief.Sigma) < np.linalg.norm(node.Sigma) and\n",
    "            np.linalg.norm(new_belief.Lambda) < np.linalg.norm(node.Lambda) and\n",
    "            new_belief.cost < node.cost:\n",
    "                v.nodes.remove(node)\n",
    "    v.nodes.append(new_belief)"
   ]
  }
 ],
 "metadata": {
  "kernelspec": {
   "display_name": "Python 3",
   "language": "python",
   "name": "python3"
  },
  "language_info": {
   "codemirror_mode": {
    "name": "ipython",
    "version": 3
   },
   "file_extension": ".py",
   "mimetype": "text/x-python",
   "name": "python",
   "nbconvert_exporter": "python",
   "pygments_lexer": "ipython3",
   "version": "3.8.5"
  }
 },
 "nbformat": 4,
 "nbformat_minor": 4
}
